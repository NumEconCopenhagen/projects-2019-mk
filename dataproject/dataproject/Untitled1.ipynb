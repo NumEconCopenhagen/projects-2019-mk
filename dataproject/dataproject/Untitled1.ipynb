{
 "cells": [
  {
   "cell_type": "code",
   "execution_count": 1,
   "metadata": {},
   "outputs": [
    {
     "name": "stdout",
     "output_type": "stream",
     "text": [
      "[['2018-01-01', '2018-01-31'], ['2018-02-01', '2018-02-28'], ['2018-03-01', '2018-03-31'], ['2018-04-01', '2018-04-30'], ['2018-05-01', '2018-05-31'], ['2018-06-01', '2018-06-30'], ['2018-07-01', '2018-07-31'], ['2018-08-01', '2018-08-31'], ['2018-09-01', '2018-09-30'], ['2018-10-01', '2018-10-31'], ['2018-11-01', '2018-11-30'], ['2018-12-01', '2018-12-31'], ['2019-01-01', '2019-01-31'], ['2019-02-01', '2019-02-28'], ['2019-03-01', '2019-03-31']]\n"
     ]
    }
   ],
   "source": [
    "import datetime\n",
    "\n",
    "# borrowed from https://stackoverflow.com/a/13565185\n",
    "# as noted there, the calendar module has a function of its own\n",
    "def last_day_of_month(any_day):\n",
    "    next_month = any_day.replace(day=28) + datetime.timedelta(days=4)  # this will never fail\n",
    "    return next_month - datetime.timedelta(days=next_month.day)\n",
    "\n",
    "begin = \"2018-01-01\"\n",
    "end = \"2019-03-31\"\n",
    "\n",
    "def monthlist(begin,end):\n",
    "    begin = datetime.datetime.strptime(begin, \"%Y-%m-%d\")\n",
    "    end = datetime.datetime.strptime(end, \"%Y-%m-%d\")\n",
    "\n",
    "    result = []\n",
    "    while True:\n",
    "        if begin.month == 12:\n",
    "            next_month = begin.replace(year=begin.year+1,month=1, day=1)\n",
    "        else:\n",
    "            next_month = begin.replace(month=begin.month+1, day=1)\n",
    "        if next_month > end:\n",
    "            break\n",
    "        result.append ([begin.strftime(\"%Y-%m-%d\"),last_day_of_month(begin).strftime(\"%Y-%m-%d\")])\n",
    "        begin = next_month\n",
    "    result.append ([begin.strftime(\"%Y-%m-%d\"),end.strftime(\"%Y-%m-%d\")])\n",
    "    return result\n",
    "\n",
    "\n",
    "date_list = monthlist(begin,end)\n",
    "print (date_list)"
   ]
  },
  {
   "cell_type": "code",
   "execution_count": 2,
   "metadata": {},
   "outputs": [
    {
     "data": {
      "text/plain": [
       "[['2018-01-01', '2018-01-31'],\n",
       " ['2018-02-01', '2018-02-28'],\n",
       " ['2018-03-01', '2018-03-31'],\n",
       " ['2018-04-01', '2018-04-30'],\n",
       " ['2018-05-01', '2018-05-31'],\n",
       " ['2018-06-01', '2018-06-30'],\n",
       " ['2018-07-01', '2018-07-31'],\n",
       " ['2018-08-01', '2018-08-31'],\n",
       " ['2018-09-01', '2018-09-30'],\n",
       " ['2018-10-01', '2018-10-31'],\n",
       " ['2018-11-01', '2018-11-30'],\n",
       " ['2018-12-01', '2018-12-31'],\n",
       " ['2019-01-01', '2019-01-31'],\n",
       " ['2019-02-01', '2019-02-28'],\n",
       " ['2019-03-01', '2019-03-31']]"
      ]
     },
     "execution_count": 2,
     "metadata": {},
     "output_type": "execute_result"
    }
   ],
   "source": [
    "date_list"
   ]
  },
  {
   "cell_type": "code",
   "execution_count": 5,
   "metadata": {},
   "outputs": [
    {
     "data": {
      "text/plain": [
       "'2018-01-01'"
      ]
     },
     "execution_count": 5,
     "metadata": {},
     "output_type": "execute_result"
    }
   ],
   "source": [
    "date_list[0][0]"
   ]
  },
  {
   "cell_type": "code",
   "execution_count": 8,
   "metadata": {},
   "outputs": [
    {
     "ename": "NameError",
     "evalue": "name 'kw_list' is not defined",
     "output_type": "error",
     "traceback": [
      "\u001b[1;31m---------------------------------------------------------------------------\u001b[0m",
      "\u001b[1;31mNameError\u001b[0m                                 Traceback (most recent call last)",
      "\u001b[1;32m<ipython-input-8-43df916f7f29>\u001b[0m in \u001b[0;36m<module>\u001b[1;34m\u001b[0m\n\u001b[0;32m      1\u001b[0m \u001b[1;32mfor\u001b[0m \u001b[0mi\u001b[0m \u001b[1;32min\u001b[0m \u001b[0mrange\u001b[0m\u001b[1;33m(\u001b[0m\u001b[1;36m0\u001b[0m\u001b[1;33m,\u001b[0m\u001b[0mlen\u001b[0m\u001b[1;33m(\u001b[0m\u001b[0mdate_list\u001b[0m\u001b[1;33m)\u001b[0m\u001b[1;33m)\u001b[0m\u001b[1;33m:\u001b[0m\u001b[1;33m\u001b[0m\u001b[1;33m\u001b[0m\u001b[0m\n\u001b[0;32m      2\u001b[0m     \u001b[0mtimeframeinput\u001b[0m \u001b[1;33m=\u001b[0m \u001b[0mdate_list\u001b[0m\u001b[1;33m[\u001b[0m\u001b[0mi\u001b[0m\u001b[1;33m]\u001b[0m\u001b[1;33m[\u001b[0m\u001b[1;36m0\u001b[0m\u001b[1;33m]\u001b[0m\u001b[1;33m+\u001b[0m\u001b[1;34m\" \"\u001b[0m\u001b[1;33m+\u001b[0m\u001b[0mdate_list\u001b[0m\u001b[1;33m[\u001b[0m\u001b[0mi\u001b[0m\u001b[1;33m]\u001b[0m\u001b[1;33m[\u001b[0m\u001b[1;36m0\u001b[0m\u001b[1;33m]\u001b[0m\u001b[1;33m\u001b[0m\u001b[1;33m\u001b[0m\u001b[0m\n\u001b[1;32m----> 3\u001b[1;33m     \u001b[0mtempdata\u001b[0m \u001b[1;33m=\u001b[0m \u001b[0mpytrends\u001b[0m\u001b[1;33m.\u001b[0m\u001b[0mbuild_payload\u001b[0m\u001b[1;33m(\u001b[0m\u001b[0mkw_list\u001b[0m\u001b[1;33m,\u001b[0m \u001b[0mcat\u001b[0m\u001b[1;33m=\u001b[0m\u001b[1;36m0\u001b[0m\u001b[1;33m,\u001b[0m \u001b[0mtimeframe\u001b[0m\u001b[1;33m=\u001b[0m\u001b[0mtimeframeinput\u001b[0m\u001b[1;33m,\u001b[0m \u001b[0mgeo\u001b[0m\u001b[1;33m=\u001b[0m\u001b[1;34m''\u001b[0m\u001b[1;33m,\u001b[0m \u001b[0mgprop\u001b[0m\u001b[1;33m=\u001b[0m\u001b[1;34m''\u001b[0m\u001b[1;33m)\u001b[0m\u001b[1;33m\u001b[0m\u001b[1;33m\u001b[0m\u001b[0m\n\u001b[0m\u001b[0;32m      4\u001b[0m     \u001b[0mdatalist\u001b[0m\u001b[1;33m.\u001b[0m\u001b[0mappend\u001b[0m\u001b[1;33m(\u001b[0m\u001b[0mtempdata\u001b[0m\u001b[1;33m)\u001b[0m\u001b[1;33m\u001b[0m\u001b[1;33m\u001b[0m\u001b[0m\n",
      "\u001b[1;31mNameError\u001b[0m: name 'kw_list' is not defined"
     ]
    }
   ],
   "source": [
    "for i in range(0,len(date_list)):\n",
    "    timeframeinput = date_list[i][0]+\" \"+date_list[i][0]\n",
    "    tempdata = pytrends.build_payload(kw_list, cat=0, timeframe=timeframeinput, geo='', gprop='')\n",
    "    datalist.append(tempdata)"
   ]
  },
  {
   "cell_type": "code",
   "execution_count": 7,
   "metadata": {},
   "outputs": [],
   "source": []
  },
  {
   "cell_type": "code",
   "execution_count": 15,
   "metadata": {},
   "outputs": [
    {
     "name": "stdout",
     "output_type": "stream",
     "text": [
      "2018-01-01 2018-01-31\n",
      "2018-02-01 2018-02-28\n",
      "2018-03-01 2018-03-31\n",
      "2018-04-01 2018-04-30\n",
      "2018-05-01 2018-05-31\n",
      "2018-06-01 2018-06-30\n",
      "2018-07-01 2018-07-31\n",
      "2018-08-01 2018-08-31\n",
      "2018-09-01 2018-09-30\n",
      "2018-10-01 2018-10-31\n",
      "2018-11-01 2018-11-30\n",
      "2018-12-01 2018-12-31\n",
      "2019-01-01 2019-01-31\n",
      "2019-02-01 2019-02-28\n",
      "2019-03-01 2019-03-31\n"
     ]
    }
   ],
   "source": [
    "datalist=[]\n",
    "for i in range(0,len(date_list)):\n",
    "    timeframeinput = date_list[i][0]+\" \"+date_list[i][1]\n",
    "    print(timeframeinput)\n",
    "    tempdata = pytrends.build_payload(\"TSLA\", cat=0, timeframe=timeframeinput, geo='', gprop='')\n",
    "    datalist.append(tempdata)"
   ]
  },
  {
   "cell_type": "code",
   "execution_count": 13,
   "metadata": {},
   "outputs": [],
   "source": []
  },
  {
   "cell_type": "code",
   "execution_count": 16,
   "metadata": {},
   "outputs": [
    {
     "data": {
      "text/plain": [
       "[None,\n",
       " None,\n",
       " None,\n",
       " None,\n",
       " None,\n",
       " None,\n",
       " None,\n",
       " None,\n",
       " None,\n",
       " None,\n",
       " None,\n",
       " None,\n",
       " None,\n",
       " None,\n",
       " None]"
      ]
     },
     "execution_count": 16,
     "metadata": {},
     "output_type": "execute_result"
    }
   ],
   "source": []
  },
  {
   "cell_type": "code",
   "execution_count": null,
   "metadata": {},
   "outputs": [],
   "source": []
  }
 ],
 "metadata": {
  "kernelspec": {
   "display_name": "Python 3",
   "language": "python",
   "name": "python3"
  },
  "language_info": {
   "codemirror_mode": {
    "name": "ipython",
    "version": 3
   },
   "file_extension": ".py",
   "mimetype": "text/x-python",
   "name": "python",
   "nbconvert_exporter": "python",
   "pygments_lexer": "ipython3",
   "version": "3.7.1"
  }
 },
 "nbformat": 4,
 "nbformat_minor": 2
}
