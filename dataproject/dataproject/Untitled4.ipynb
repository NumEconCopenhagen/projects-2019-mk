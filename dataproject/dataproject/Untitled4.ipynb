{
 "cells": [
  {
   "cell_type": "code",
   "execution_count": 3,
   "metadata": {},
   "outputs": [],
   "source": [
    "import datetime\n",
    "\n",
    "\n",
    "def last_day_of_month(any_day):\n",
    "    next_month = any_day.replace(day=28) + datetime.timedelta(days=4)  # this will never fail\n",
    "    return next_month - datetime.timedelta(days=next_month.day)"
   ]
  },
  {
   "cell_type": "code",
   "execution_count": 4,
   "metadata": {},
   "outputs": [],
   "source": [
    "begin = \"2018-01-01\"\n",
    "end = \"2019-03-31\""
   ]
  },
  {
   "cell_type": "code",
   "execution_count": 5,
   "metadata": {},
   "outputs": [],
   "source": [
    "def monthlist(begin,end):\n",
    "    begin = datetime.datetime.strptime(begin, \"%Y-%m-%d\")\n",
    "    end = datetime.datetime.strptime(end, \"%Y-%m-%d\")\n",
    "\n",
    "    result = []\n",
    "    while True:\n",
    "        if begin.month == 12:\n",
    "            next_month = begin.replace(year=begin.year+1,month=1, day=1)\n",
    "        else:\n",
    "            next_month = begin.replace(month=begin.month+1, day=1)\n",
    "        if next_month > end:\n",
    "            break\n",
    "        result.append ([begin.strftime(\"%Y-%m-%d\"),last_day_of_month(begin).strftime(\"%Y-%m-%d\")])\n",
    "        begin = next_month\n",
    "    result.append ([begin.strftime(\"%Y-%m-%d\"),end.strftime(\"%Y-%m-%d\")])\n",
    "    return result"
   ]
  },
  {
   "cell_type": "code",
   "execution_count": 10,
   "metadata": {},
   "outputs": [
    {
     "data": {
      "text/plain": [
       "[[]]"
      ]
     },
     "execution_count": 10,
     "metadata": {},
     "output_type": "execute_result"
    }
   ],
   "source": [
    "datalist=[]\n",
    "tempdata=[]\n",
    "def searches(*kw_list):\n",
    "    for i in range(0,len(date_list)):\n",
    "        timeframeinput = date_list[i][0]+\" \"+date_list[i][1]\n",
    "        tempdata = pytrends.build_payload(kw_list, cat=0, timeframe=timeframeinput, geo='', gprop='')\n",
    "        tempdata = pytrends.interest_over_time()\n",
    "datalist.append(tempdata).drop(columns = \"isPartial\")\n",
    "return datalist"
   ]
  },
  {
   "cell_type": "code",
   "execution_count": 11,
   "metadata": {},
   "outputs": [
    {
     "data": {
      "text/plain": [
       "[[]]"
      ]
     },
     "execution_count": 11,
     "metadata": {},
     "output_type": "execute_result"
    }
   ],
   "source": [
    "datalist"
   ]
  },
  {
   "cell_type": "code",
   "execution_count": null,
   "metadata": {},
   "outputs": [],
   "source": []
  }
 ],
 "metadata": {
  "kernelspec": {
   "display_name": "Python 3",
   "language": "python",
   "name": "python3"
  },
  "language_info": {
   "codemirror_mode": {
    "name": "ipython",
    "version": 3
   },
   "file_extension": ".py",
   "mimetype": "text/x-python",
   "name": "python",
   "nbconvert_exporter": "python",
   "pygments_lexer": "ipython3",
   "version": "3.7.1"
  }
 },
 "nbformat": 4,
 "nbformat_minor": 2
}
